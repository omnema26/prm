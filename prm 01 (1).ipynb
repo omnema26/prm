{
 "cells": [
  {
   "cell_type": "code",
   "execution_count": 2,
   "id": "6567d0d0",
   "metadata": {},
   "outputs": [
    {
     "name": "stdout",
     "output_type": "stream",
     "text": [
      "given list  ['great', 'hello', 'hiyo', 'abc']\n",
      "result ['abc', 'great', 'hello', 'hiyo']\n"
     ]
    }
   ],
   "source": [
    "#QUESTION NO.1\n",
    "\n",
    "#Python Candidates \n",
    "#You will have a number of elements and in the next n lines element of a list. You have to create a list from the given strings. You have to sort the list based on 2nd last character of a string.\n",
    "#For example: given list = ['great','hello','hiyo','abc'] so your output_dictionary should be ['great', 'abc', 'hello','hiyo']\n",
    "#Input Format:\n",
    "#At first-line it will have an integer (number of elements inside a list). In the second line, it will have a string.\n",
    "#Output Format:\n",
    "#A single line containing a sorted list.\n",
    "\n",
    "\n",
    "\n",
    "\n",
    "given_list  = ['great','hello','hiyo','abc']\n",
    " \n",
    "\n",
    "print (\"given list \", str(given_list ))\n",
    " \n",
    "\n",
    "res = sorted(given_list , key = lambda x: x.split())\n",
    "     \n",
    "print (\"result\", res)"
   ]
  },
  {
   "cell_type": "code",
   "execution_count": null,
   "id": "dbc6c764",
   "metadata": {},
   "outputs": [],
   "source": []
  },
  {
   "cell_type": "code",
   "execution_count": null,
   "id": "51f6a71d",
   "metadata": {},
   "outputs": [],
   "source": [
    "#QUESTION NO.2\n",
    "\n",
    "#Python Candidates -\n",
    "#Your task is to complete the validate_triangle and validate_rectangle functions for the classes.Hint for validating is given in the\n",
    "#comments of the code. Also you will have to print the following after validation in respective functions:-\n",
    "\n",
    "#1.Invalid Triangle: If the triangle sum property of sides is not valid(More hint in the comments of code)\n",
    "\n",
    "#2.Valid Triangle:If the triangle sum property of sides is valid.\n",
    "\n",
    "#3.Valid Rectangle:If 2 side pairs are same and they are input in correct order like l,b,l,b\n",
    "\n",
    "#4.Invalid Rectangle: If Not Valid rectangle as stated above.\n",
    "\n",
    "#Input Format:\n",
    "\n",
    "#The side length of triangle followed by for rectangle in the next line in order.\n",
    "\n",
    "###Output Format:\n",
    "\n",
    "#since object are created in order, so first validate info about triangle will come and than rectangle.\n",
    "\n",
    "#Sample Input 0:\n",
    "\n",
    "#3 4 5\n",
    "\n",
    "#2 4 2 4\n",
    "\n",
    "#Sample Output 0:\n",
    "#Valid Triangle\n",
    "#Valid Rectangle"
   ]
  },
  {
   "cell_type": "code",
   "execution_count": 14,
   "id": "5fe0eb3d",
   "metadata": {},
   "outputs": [
    {
     "name": "stdout",
     "output_type": "stream",
     "text": [
      "Invalid\n"
     ]
    }
   ],
   "source": [
    "def isTriangle(a, b, c):\n",
    "    if ((a + b + c == 180) and a != 0 and b != 0 and c != 0):\n",
    "        return True\n",
    "    else:\n",
    "        return False\n",
    "\n",
    "if __name__ == \"__main__\":\n",
    "    a = 3\n",
    "    b = 4\n",
    "    c = 5\n",
    "    if (isTriangle(a, b, c)):\n",
    "        print(\"Valid\")\n",
    "    else:\n",
    "        print(\"Invalid\")"
   ]
  },
  {
   "cell_type": "code",
   "execution_count": 12,
   "id": "fb31b680",
   "metadata": {},
   "outputs": [
    {
     "name": "stdout",
     "output_type": "stream",
     "text": [
      "Valid\n"
     ]
    }
   ],
   "source": [
    "def isRectangle(a, b, c, d):\n",
    "    if (a == b and d == c) or (a == c and b == d) or (a == d and b == c):\n",
    "        return True\n",
    "    else:\n",
    "        return False\n",
    "    \n",
    "    a, b, c, d = 2,4,2,4\n",
    "print(\"Valid\" if isRectangle(a, b, c, d) else \"Invalid\")"
   ]
  },
  {
   "cell_type": "code",
   "execution_count": null,
   "id": "939aaf3e",
   "metadata": {},
   "outputs": [],
   "source": []
  }
 ],
 "metadata": {
  "kernelspec": {
   "display_name": "Python 3 (ipykernel)",
   "language": "python",
   "name": "python3"
  },
  "language_info": {
   "codemirror_mode": {
    "name": "ipython",
    "version": 3
   },
   "file_extension": ".py",
   "mimetype": "text/x-python",
   "name": "python",
   "nbconvert_exporter": "python",
   "pygments_lexer": "ipython3",
   "version": "3.9.12"
  }
 },
 "nbformat": 4,
 "nbformat_minor": 5
}
